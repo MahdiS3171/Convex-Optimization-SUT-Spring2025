{
  "cells": [
    {
      "cell_type": "markdown",
      "source": [
        "Convex Optimization course\n",
        "\n",
        "Dr. Yassaee\n",
        "\n",
        "HW4.Q7\n",
        "\n",
        "Student name: Seyyed Amirmahdi Sadrzadeh\n",
        "\n",
        "Student number: 401102015"
      ],
      "metadata": {
        "id": "kFnRYTd3XGgC"
      }
    },
    {
      "cell_type": "markdown",
      "source": [
        "# Q7. Lasso"
      ],
      "metadata": {
        "id": "mShcy3MxW8I0"
      }
    },
    {
      "cell_type": "code",
      "source": [
        "from google.colab import drive\n",
        "drive.mount('/content/drive')"
      ],
      "metadata": {
        "id": "ZtfX8vDkaTeF",
        "outputId": "9d3c3181-ce30-485e-9e5d-9e624caef0eb",
        "colab": {
          "base_uri": "https://localhost:8080/"
        }
      },
      "execution_count": 22,
      "outputs": [
        {
          "output_type": "stream",
          "name": "stdout",
          "text": [
            "Mounted at /content/drive\n"
          ]
        }
      ]
    },
    {
      "cell_type": "markdown",
      "metadata": {
        "id": "XdkxyZbaeV0U"
      },
      "source": [
        "## Including Libraries\n"
      ]
    },
    {
      "cell_type": "code",
      "execution_count": 20,
      "metadata": {
        "id": "2CisrQuejGmc"
      },
      "outputs": [],
      "source": [
        "import numpy as np\n",
        "import pandas as pd\n",
        "import cvxpy as cp\n",
        "import matplotlib.pyplot as plt"
      ]
    },
    {
      "cell_type": "markdown",
      "source": [
        "## **Problem Statement**\n",
        "We aim to solve the 2D Lasso optimization problem for image denoising:\n",
        "$$\n",
        "\\min_{\\theta \\in \\mathbb{R}^{m \\times n}} \\sum_{i=1}^{mn} \\frac{1}{2}(y_i - \\theta_i)^2 + \\lambda \\sum_{(i,j)\\in E} |\\theta_i - \\theta_j|\n",
        "$$\n",
        "The first term is the fidelity term (minimizes difference between noisy image Y and denoised image $\\theta$).\n",
        "\n",
        "The second term is the total variation (TV) regularization (promotes piecewise smoothness by penalizing differences between neighboring pixels).\n",
        "\n",
        "And $E$ is the set of edges connecting each pixel to its horizontal and vertical neighbors."
      ],
      "metadata": {
        "id": "qOWhru4MXeez"
      }
    },
    {
      "cell_type": "markdown",
      "source": [
        "### **Part 1**"
      ],
      "metadata": {
        "id": "T5AYVxbLaHxN"
      }
    },
    {
      "cell_type": "markdown",
      "source": [
        "1. **Roles of the Two Terms**:\n",
        "   - **Fidelity Term**: Ensures the denoised image $\\theta$ stays close to the noisy input $Y$.\n",
        "   - **TV Regularization**: Encourages smoothness by penalizing large differences between adjacent pixels. This removes noise while preserving edges.\n",
        "\n",
        "2. **Convexity**:\n",
        "   - The problem is **convex** because:\n",
        "     - The squared error term is convex.\n",
        "     - The absolute difference term (L1 norm) is convex.\n",
        "     - Sum of convex functions is convex.\n",
        "\n",
        "3. **Role of $\\lambda$**:\n",
        "   - **Small $\\lambda$**: Prioritizes fidelity to $Y$ → noisy output.\n",
        "   - **Large $\\lambda$**: Prioritizes smoothness → oversmoothing and loss of details."
      ],
      "metadata": {
        "id": "3mzTIDl2YchT"
      }
    },
    {
      "cell_type": "markdown",
      "source": [
        "### **Part 2**"
      ],
      "metadata": {
        "id": "91jCUKOVZ2D4"
      }
    },
    {
      "cell_type": "markdown",
      "source": [
        "#### **Loading Data**\n",
        "We load the noisy image data from `toy.csv`, which represents a 2D grid of pixel values. The goal is to denoise this image using the 2D Lasso (Total Variation) formulation."
      ],
      "metadata": {
        "id": "QTCed_4WaKuO"
      }
    },
    {
      "cell_type": "code",
      "source": [
        "data = pd.read_csv('/content/drive/MyDrive/Convex/toy.csv', header=None)\n",
        "Y = data.values\n",
        "m, n = Y.shape"
      ],
      "metadata": {
        "id": "AOSgA62tZwvh"
      },
      "execution_count": 23,
      "outputs": []
    },
    {
      "cell_type": "markdown",
      "source": [
        "#### **Solving for λ = 1**\n",
        "We set `λ = 1` and solve the convex optimization problem using CVXPY. The total variation term will moderately smooth the image while preserving edges."
      ],
      "metadata": {
        "id": "kLbB-ULda1XB"
      }
    },
    {
      "cell_type": "code",
      "source": [
        "y = Y.flatten()\n",
        "theta = cp.Variable(y.shape)\n",
        "\n",
        "# Total Variation (TV) regularization term\n",
        "def tv_term(theta, m, n):\n",
        "    theta_mat = cp.reshape(theta, (m, n))\n",
        "    horizontal_diff = cp.sum(cp.abs(theta_mat[:, 1:] - theta_mat[:, :-1]))\n",
        "    vertical_diff = cp.sum(cp.abs(theta_mat[1:, :] - theta_mat[:-1, :]))\n",
        "    return horizontal_diff + vertical_diff\n",
        "\n",
        "lambda_val = 1.0\n",
        "\n",
        "# Build and solve the problem\n",
        "objective = cp.Minimize(0.5 * cp.sum_squares(y - theta) + lambda_val * tv_term(theta, m, n))\n",
        "problem = cp.Problem(objective)\n",
        "problem.solve()"
      ],
      "metadata": {
        "id": "YBbT-eMba33v",
        "outputId": "734302ec-70ee-42d8-b1cd-ab445173207d",
        "colab": {
          "base_uri": "https://localhost:8080/"
        }
      },
      "execution_count": 24,
      "outputs": [
        {
          "output_type": "stream",
          "name": "stderr",
          "text": [
            "/usr/local/lib/python3.11/dist-packages/cvxpy/atoms/affine/reshape.py:68: FutureWarning: \n",
            "    You didn't specify the order of the reshape expression. The default order\n",
            "    used in CVXPY is Fortran ('F') order. This default will change to match NumPy's\n",
            "    default order ('C') in a future version of CVXPY.\n",
            "    To suppress this warning, please specify the order explicitly.\n",
            "    \n",
            "  warnings.warn(reshape_order_warning, FutureWarning)\n"
          ]
        },
        {
          "output_type": "execute_result",
          "data": {
            "text/plain": [
              "np.float64(233.33396935721197)"
            ]
          },
          "metadata": {},
          "execution_count": 24
        }
      ]
    },
    {
      "cell_type": "markdown",
      "source": [
        "#### **Objective Function Value**\n",
        "The objective value quantifies the trade-off between fidelity to the noisy data and smoothness. A lower value indicates a better balance. The value we achieved:"
      ],
      "metadata": {
        "id": "JjE-Kd4EbK0O"
      }
    },
    {
      "cell_type": "code",
      "source": [
        "print(\"Objective value:\", problem.value)"
      ],
      "metadata": {
        "id": "_yIr3UxAbTJs",
        "outputId": "2ab98113-f30c-4c5b-e256-9ef53d97b617",
        "colab": {
          "base_uri": "https://localhost:8080/"
        }
      },
      "execution_count": 25,
      "outputs": [
        {
          "output_type": "stream",
          "name": "stdout",
          "text": [
            "Objective value: 233.33396935721197\n"
          ]
        }
      ]
    },
    {
      "cell_type": "markdown",
      "source": [
        "#### **Visualization**\n",
        "We plot the original noisy data and the denoised result side-by-side. For `λ = 1`:"
      ],
      "metadata": {
        "id": "RUxFMorbbjMU"
      }
    },
    {
      "cell_type": "code",
      "source": [
        "denoised_image = theta.value.reshape((m, n))\n",
        "\n",
        "plt.figure(figsize=(10, 5))\n",
        "plt.subplot(121)\n",
        "plt.imshow(Y, cmap='gray')\n",
        "plt.title(\"Original Noisy Data\")\n",
        "\n",
        "plt.subplot(122)\n",
        "plt.imshow(denoised_image, cmap='gray')\n",
        "plt.title(f\"Denoised (λ={lambda_val})\")\n",
        "\n",
        "plt.show()"
      ],
      "metadata": {
        "id": "h8zAL3gRbNvM",
        "outputId": "2dcc78ae-4d32-49c4-aa59-3ffb010d033d",
        "colab": {
          "base_uri": "https://localhost:8080/",
          "height": 366
        }
      },
      "execution_count": 26,
      "outputs": [
        {
          "output_type": "display_data",
          "data": {
            "text/plain": [
              "<Figure size 1000x500 with 2 Axes>"
            ],
            "image/png": "[encoded data removed]"
          },
          "metadata": {}
        }
      ]
    },
    {
      "cell_type": "markdown",
      "source": [
        "We can see that the noise has decreased a little and the edges of the image are blurred so the image isn't satisfying and it is better to increase $\\lambda$."
      ],
      "metadata": {
        "id": "fcBVfQVubuod"
      }
    },
    {
      "cell_type": "markdown",
      "source": [
        "### **Part 3**"
      ],
      "metadata": {
        "id": "TwR90mbKcz4G"
      }
    },
    {
      "cell_type": "markdown",
      "source": [
        "#### **Solving for Isotropic TV**\n",
        "We solve the optimization problem with isotropic TV regularization for `λ = 1`:"
      ],
      "metadata": {
        "id": "9BOaYx8ddOVR"
      }
    },
    {
      "cell_type": "code",
      "source": [
        "def tv_isotropic_term(theta, m, n):\n",
        "    \"\"\"\n",
        "    Computes isotropic TV regularization using L2 norm of gradient pairs.\n",
        "    \"\"\"\n",
        "    theta_mat = cp.reshape(theta, (m, n))\n",
        "\n",
        "    # Horizontal differences (shape: (m, n-1))\n",
        "    diff_h = theta_mat[:, 1:] - theta_mat[:, :-1]\n",
        "\n",
        "    # Vertical differences (shape: (m-1, n))\n",
        "    diff_v = theta_mat[1:, :] - theta_mat[:-1, :]\n",
        "\n",
        "    # Truncate to overlapping regions (shape: (m-1, n-1))\n",
        "    diff_h_trunc = diff_h[:-1, :]\n",
        "    diff_v_trunc = diff_v[:, :-1]\n",
        "\n",
        "    # Stack differences into pairs and compute L2 norm\n",
        "    diff_pairs = cp.hstack([cp.vec(diff_h_trunc), cp.vec(diff_v_trunc)])\n",
        "    diff_pairs = cp.reshape(diff_pairs, (diff_h_trunc.size, 2))\n",
        "    norms = cp.norm(diff_pairs, p=2, axis=1)\n",
        "\n",
        "    return cp.sum(norms)\n",
        "\n",
        "lambda_val = 1.0\n",
        "objective_isotropic = cp.Minimize(0.5 * cp.sum_squares(y - theta) + lambda_val * tv_isotropic_term(theta, m, n))\n",
        "problem_isotropic = cp.Problem(objective_isotropic)\n",
        "problem_isotropic.solve()\n",
        "\n",
        "# Get denoised image\n",
        "denoised_isotropic = theta.value.reshape((m, n))"
      ],
      "metadata": {
        "id": "HaYEd06lc4XU",
        "outputId": "7d4fdf6d-586a-4988-842d-54b7329fb0dc",
        "colab": {
          "base_uri": "https://localhost:8080/"
        }
      },
      "execution_count": 27,
      "outputs": [
        {
          "output_type": "stream",
          "name": "stderr",
          "text": [
            "/usr/local/lib/python3.11/dist-packages/cvxpy/atoms/affine/vec.py:40: FutureWarning: \n",
            "    You didn't specify the order of the vec expression. The default order\n",
            "    used in CVXPY is Fortran ('F') order. This default will change to match NumPy's\n",
            "    default order ('C') in a future version of CVXPY.\n",
            "    To suppress this warning, please specify the order explicitly.\n",
            "    \n",
            "  warnings.warn(vec_order_warning, FutureWarning)\n"
          ]
        }
      ]
    },
    {
      "cell_type": "code",
      "source": [
        "def tv_anisotropic_term(theta, m, n):\n",
        "    theta_mat = cp.reshape(theta, (m, n))\n",
        "    horizontal_diff = cp.sum(cp.abs(theta_mat[:, 1:] - theta_mat[:, :-1]))\n",
        "    vertical_diff = cp.sum(cp.abs(theta_mat[1:, :] - theta_mat[:-1, :]))\n",
        "    return horizontal_diff + vertical_diff\n",
        "\n",
        "objective_anisotropic = cp.Minimize(0.5 * cp.sum_squares(y - theta) + lambda_val * tv_anisotropic_term(theta, m, n))\n",
        "problem_anisotropic = cp.Problem(objective_anisotropic)\n",
        "problem_anisotropic.solve()\n",
        "denoised_anisotropic = theta.value.reshape((m, n))"
      ],
      "metadata": {
        "id": "TAbA_oLydy8H"
      },
      "execution_count": 30,
      "outputs": []
    },
    {
      "cell_type": "markdown",
      "source": [
        "#### **Visualization**"
      ],
      "metadata": {
        "id": "8wT92B6QeSp-"
      }
    },
    {
      "cell_type": "code",
      "source": [
        "plt.figure(figsize=(15, 5))\n",
        "plt.subplot(131)\n",
        "plt.imshow(Y, cmap='gray')\n",
        "plt.title(\"Original Noisy Image\")\n",
        "\n",
        "plt.subplot(132)\n",
        "plt.imshow(denoised_anisotropic, cmap='gray')\n",
        "plt.title(\"Anisotropic TV (p=1)\")\n",
        "\n",
        "plt.subplot(133)\n",
        "plt.imshow(denoised_isotropic, cmap='gray')\n",
        "plt.title(\"Isotropic TV (p=2)\")\n",
        "\n",
        "plt.show()"
      ],
      "metadata": {
        "id": "VZzVFWDieXG0",
        "outputId": "947b886d-e6d6-4912-e4ae-9c1b2800aa6e",
        "colab": {
          "base_uri": "https://localhost:8080/",
          "height": 249
        }
      },
      "execution_count": 31,
      "outputs": [
        {
          "output_type": "display_data",
          "data": {
            "text/plain": [
              "<Figure size 1500x500 with 3 Axes>"
            ],
            "image/png": "[encoded data removed]"
          },
          "metadata": {}
        }
      ]
    },
    {
      "cell_type": "markdown",
      "source": [
        "#### **Comparison of Anisotropic vs. Isotropic TV**\n",
        "\n",
        "We can see that the results for the isotropic with p=2 is much better than the previous one.\n",
        "\n",
        " **Why the Difference?**:\n",
        "   - Isotropic TV treats the gradient as a vector, promoting natural edge structures.\n",
        "   - Anisotropic TV penalizes each axis separately, leading to axis-aligned bias."
      ],
      "metadata": {
        "id": "6bQHEkvqeckn"
      }
    },
    {
      "cell_type": "code",
      "source": [
        "print(\"Anisotropic Objective:\", problem_anisotropic.value)\n",
        "print(\"Isotropic Objective:\", problem_isotropic.value)"
      ],
      "metadata": {
        "id": "Y8Vu4N02eeTV",
        "outputId": "d23bd361-f4e3-4aa1-8e7d-7a2daf4e2163",
        "colab": {
          "base_uri": "https://localhost:8080/"
        }
      },
      "execution_count": 32,
      "outputs": [
        {
          "output_type": "stream",
          "name": "stdout",
          "text": [
            "Anisotropic Objective: 233.33396935721197\n",
            "Isotropic Objective: 214.20751759950048\n"
          ]
        }
      ]
    }
  ],
  "metadata": {
    "colab": {
      "name": "PHW4.ipynb",
      "provenance": []
    },
    "kernelspec": {
      "display_name": "Python 3",
      "name": "python3"
    },
    "language_info": {
      "codemirror_mode": {
        "name": "ipython",
        "version": 3
      },
      "file_extension": ".py",
      "mimetype": "text/x-python",
      "name": "python",
      "nbconvert_exporter": "python",
      "pygments_lexer": "ipython3",
      "version": "3.8.5"
    }
  },
  "nbformat": 4,
  "nbformat_minor": 0
}